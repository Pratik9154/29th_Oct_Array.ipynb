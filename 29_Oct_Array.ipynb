{
 "cells": [
  {
   "cell_type": "code",
   "execution_count": 12,
   "id": "d9e42d3b",
   "metadata": {
    "ExecuteTime": {
     "end_time": "2023-11-03T08:32:34.953252Z",
     "start_time": "2023-11-03T08:32:34.936275Z"
    }
   },
   "outputs": [
    {
     "data": {
      "text/plain": [
       "False"
      ]
     },
     "execution_count": 12,
     "metadata": {},
     "output_type": "execute_result"
    }
   ],
   "source": [
    "#1. Given an array, check if it contains any duplicates or not.\n",
    "\n",
    "arr = [1, 2, 4, 3, 5, 9]\n",
    "\n",
    "def dupli(arr):\n",
    "    count=0\n",
    "    for i in arr:\n",
    "        count=0\n",
    "        for j in arr:\n",
    "            if i==j:\n",
    "                count+=1\n",
    "        if count==2:\n",
    "            return True\n",
    "    else:\n",
    "        return False\n",
    "\n",
    "dupli(arr)\n",
    "            "
   ]
  },
  {
   "cell_type": "code",
   "execution_count": 21,
   "id": "12427e43",
   "metadata": {
    "ExecuteTime": {
     "end_time": "2023-11-03T09:05:14.251838Z",
     "start_time": "2023-11-03T09:05:14.234487Z"
    }
   },
   "outputs": [
    {
     "name": "stdout",
     "output_type": "stream",
     "text": [
      "[7, 8, 9, 1, 2, 3, 4, 5, 6]\n"
     ]
    }
   ],
   "source": [
    "# 2. Given an array and an integer k, rotate the array to the right by k steps.\n",
    "arr = [1, 2, 3, 4, 5, 6, 7,8,9]\n",
    "arr1=[]\n",
    "a=0\n",
    "k = 3\n",
    "i=0\n",
    "while i<=len(arr)-1:\n",
    "    if i>=(len(arr)-3):\n",
    "        arr1.insert(a,arr[i])\n",
    "        a+=1\n",
    "        \n",
    "    if i <(len(arr)-3):\n",
    "        arr1.append(arr[i])\n",
    "    i+=1\n",
    "    \n",
    "print(arr1)"
   ]
  },
  {
   "cell_type": "code",
   "execution_count": 13,
   "id": "4b5394a5",
   "metadata": {
    "ExecuteTime": {
     "end_time": "2023-11-03T10:29:07.240826Z",
     "start_time": "2023-11-03T10:29:07.229274Z"
    }
   },
   "outputs": [
    {
     "name": "stdout",
     "output_type": "stream",
     "text": [
      "[14, 12, 9, 7, 5, 4, 2]\n"
     ]
    }
   ],
   "source": [
    "#3. Reverse the given array in-place, means without using any extra data structure.\n",
    "\n",
    "arr = [2, 4, 5, 7, 9, 12,14]\n",
    "i=0\n",
    "l=len(arr)\n",
    "a=0\n",
    "while (i<l//2):\n",
    "    a=arr[i]\n",
    "    arr[i]=arr[l-i-1]\n",
    "    arr[l-i-1]=a\n",
    "    i+=1\n",
    "    \n",
    "print(arr)"
   ]
  },
  {
   "cell_type": "code",
   "execution_count": 15,
   "id": "637d8a03",
   "metadata": {
    "ExecuteTime": {
     "end_time": "2023-11-03T10:30:51.888905Z",
     "start_time": "2023-11-03T10:30:51.877599Z"
    }
   },
   "outputs": [
    {
     "name": "stdout",
     "output_type": "stream",
     "text": [
      "90\n"
     ]
    }
   ],
   "source": [
    "#4. Given an array of integers, find the maximum element in an array\n",
    "arr = [10, 5, 20, 8, 15,90]\n",
    "a=0\n",
    "for i in arr:\n",
    "    if i>a:\n",
    "        a=i\n",
    "print(a)"
   ]
  },
  {
   "cell_type": "code",
   "execution_count": 17,
   "id": "61454881",
   "metadata": {
    "ExecuteTime": {
     "end_time": "2023-11-03T10:35:56.500522Z",
     "start_time": "2023-11-03T10:35:56.488169Z"
    }
   },
   "outputs": [
    {
     "name": "stdout",
     "output_type": "stream",
     "text": [
      "[1, 2, 3, 4, 5]\n"
     ]
    }
   ],
   "source": [
    "#5. Given a sorted array, remove the duplicate element without using any extra data structure.\n",
    "arr = [1, 1, 2, 2, 2, 3, 3, 4, 4, 4, 5, 5,5]\n",
    "count=0\n",
    "for i in arr:\n",
    "    for j in arr:\n",
    "        if i==j:\n",
    "            count+=1\n",
    "        if count>1:\n",
    "            arr.remove(i)\n",
    "            count-=1\n",
    "            \n",
    "print(arr)"
   ]
  },
  {
   "cell_type": "code",
   "execution_count": null,
   "id": "cbc37956",
   "metadata": {},
   "outputs": [],
   "source": []
  }
 ],
 "metadata": {
  "kernelspec": {
   "display_name": "Python 3 (ipykernel)",
   "language": "python",
   "name": "python3"
  },
  "language_info": {
   "codemirror_mode": {
    "name": "ipython",
    "version": 3
   },
   "file_extension": ".py",
   "mimetype": "text/x-python",
   "name": "python",
   "nbconvert_exporter": "python",
   "pygments_lexer": "ipython3",
   "version": "3.11.4"
  },
  "toc": {
   "base_numbering": 1,
   "nav_menu": {},
   "number_sections": true,
   "sideBar": true,
   "skip_h1_title": false,
   "title_cell": "Table of Contents",
   "title_sidebar": "Contents",
   "toc_cell": false,
   "toc_position": {},
   "toc_section_display": true,
   "toc_window_display": false
  }
 },
 "nbformat": 4,
 "nbformat_minor": 5
}
